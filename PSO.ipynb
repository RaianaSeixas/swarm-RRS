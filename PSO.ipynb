{
  "nbformat": 4,
  "nbformat_minor": 0,
  "metadata": {
    "colab": {
      "name": "PSO.ipynb",
      "version": "0.3.2",
      "provenance": [],
      "include_colab_link": true
    },
    "kernelspec": {
      "name": "python3",
      "display_name": "Python 3"
    }
  },
  "cells": [
    {
      "cell_type": "markdown",
      "metadata": {
        "id": "view-in-github",
        "colab_type": "text"
      },
      "source": [
        "<a href=\"https://colab.research.google.com/github/RaianaSeixas/Gerenciador/blob/master/PSO.ipynb\" target=\"_parent\"><img src=\"https://colab.research.google.com/assets/colab-badge.svg\" alt=\"Open In Colab\"/></a>"
      ]
    },
    {
      "metadata": {
        "id": "UetKZ8PNTsFK",
        "colab_type": "code",
        "colab": {}
      },
      "cell_type": "code",
      "source": [
        "import numpy as np"
      ],
      "execution_count": 0,
      "outputs": []
    },
    {
      "metadata": {
        "id": "o2Sm7kpfT4Lv",
        "colab_type": "code",
        "colab": {}
      },
      "cell_type": "code",
      "source": [
        "#FOBJ Gera vetorialmente os valores com a funcao objetivo escalar\n",
        "\n",
        "def FOBJ(X,Fun):\n",
        "    rows = X.shape[0] # Numero de linhas da matriz X[n,m]. If Y has n rows and m columns, then Y.shape is (n,m) . So Y.shape[0] is n.\n",
        "    fobj=np.zeros(rows)\n",
        "    for i in range(rows):\n",
        "        fobj[i]=Fun(X[i,]) # X é um vetor com i linhas de partículas e todas as colunas\n",
        "    return fobj"
      ],
      "execution_count": 0,
      "outputs": []
    },
    {
      "metadata": {
        "id": "fOAGiVviUCeC",
        "colab_type": "code",
        "colab": {}
      },
      "cell_type": "code",
      "source": [
        "#Enxame retorna a populacao aleatoria com todos valores entre MIN e MAX\n",
        "def Enxame(PAR,NPAR,MAX,MIN): #a PAR não necessário\n",
        "    x=np.zeros((NPAR, len(MAX)))\n",
        "    for j in range(len(MAX)):\n",
        "        for i in range(NPAR):\n",
        "            x[i,j]=MIN[j]+(MAX[j]-MIN[j])*np.random.random()\n",
        "    return x"
      ],
      "execution_count": 0,
      "outputs": []
    },
    {
      "metadata": {
        "id": "rhNCmAvSUQWh",
        "colab_type": "code",
        "colab": {}
      },
      "cell_type": "code",
      "source": [
        "#VE rotina velocidade utilizada na correcao das particulas\n",
        "#nesta versao do programa fazemos a adequacao restricao de VELOCIDADE: 50% do limite\n",
        "\n",
        "def VE(X,VEL,FOBEST,PBEST,W,C1,C2,MAX,MIN):\n",
        "    rows = X.shape[0]\n",
        "    cols = X.shape[1]\n",
        "    VEL=np.zeros((rows, cols))\n",
        "    for i in range(rows):\n",
        "        for j in range(cols):\n",
        "            R1=np.random.random()\n",
        "            R2=np.random.random()\n",
        "            VELOCIDADE=W*VEL[i,j]+C1*R1*(PBEST[i,j]-X[i,j])+C2*R2*(FOBEST[j]-X[i,j])\n",
        "            if(VELOCIDADE> MAX[j]):\n",
        "                VELOCIDADE=0.5*MAX[j]\n",
        "            if(VELOCIDADE<MIN[j]):\n",
        "                VELOCIDADE=0.5*MIN[j]\n",
        "            VEL[i,j]=np.copy(VELOCIDADE)\n",
        "            X[i,j]=X[i,j]+VEL[i,j]\n",
        "            if(X[i,j]>MAX[j]):\n",
        "                X[i,j]=MAX[j]\n",
        "            if(X[i,j]<MIN[j]):\n",
        "                X[i,j]=MIN[j]\n",
        "    return X, VEL"
      ],
      "execution_count": 0,
      "outputs": []
    },
    {
      "metadata": {
        "id": "08uatpiIaJAk",
        "colab_type": "code",
        "colab": {}
      },
      "cell_type": "code",
      "source": [
        "#PART atualiza PBEST (melhor de cada particula)\n",
        "def PART(x,xnew,Fun): # x é o vetor anterior de PBEST\n",
        "    rows = x.shape[0]\n",
        "#    cols  = x.shape[1] # não necessário\n",
        "    YCAL=FOBJ(x,Fun)\n",
        "    NEW=FOBJ(xnew,Fun) #xnew vem da rotina velocidade!!!!\n",
        "    for i in range(rows):\n",
        "        if(YCAL[i]>NEW[i]):\n",
        "            x[i,]=np.copy(xnew[i,]) \n",
        "    PBEST=np.copy(x)\n",
        "    return PBEST"
      ],
      "execution_count": 0,
      "outputs": []
    },
    {
      "metadata": {
        "id": "Eb0AKGYiaUdT",
        "colab_type": "code",
        "colab": {}
      },
      "cell_type": "code",
      "source": [
        "def PSO(W,C1,C2,NPAR,ITE,PAR,MAX,MIN,Fun):\n",
        "    #rows = x.shape[0]\n",
        "    #cols  = x.shape[1]\n",
        "    x=Enxame(PAR,NPAR,MAX,MIN)# gera populacao inicial aleatoria\n",
        "    PBEST=np.copy(x) # inicialmente eh aleatorio\n",
        "    YCAL=FOBJ(x,Fun) # estima a funcao nos valores aleatorios\n",
        "    best=np.argmin(YCAL)\n",
        "    GBEST=PBEST[best] # melhor global: isto primeira interacao\n",
        "    FOBEST=YCAL[best]\n",
        "    VEL=Enxame(PAR,NPAR,MAX,MIN) # velocidades define aleatoria no primeiro uso\n",
        "\n",
        "    for i in range(ITE):\n",
        "        xnew,VEL=VE(VEL,x,GBEST,PBEST,W,C1,C2,MAX,MIN)# nova atualizacao de x utilizando as velocidades\n",
        "        PBEST=PART(PBEST,xnew,Fun) #atualizcao de PBEST (sempre atualiza com a nova busca)\n",
        "        #YCAL=FOBJ(xnew,Fun)\n",
        "        YCAL=FOBJ(PBEST,Fun)\n",
        "        new=np.argmin(YCAL) #índice do Ycal min\n",
        "        NEW=YCAL[new]\n",
        "        if(NEW<FOBEST):\n",
        "            GBEST=xnew[new]\n",
        "            FOBEST=NEW\n",
        "#        if((i%25)==0):\n",
        "#            print(\"i=\",i,\"---\",NEW,\"\\n\") #add última iteração \n",
        "        if i==ITE-1: #Coletar X e Y ordenados da ultima iteração\n",
        "#            y=FOBJ(xnew,Fun)\n",
        "#            XY = np.c_[xnew,y] #concatena x e y em 2 colunas\n",
        "            XY= np.c_[PBEST,YCAL] #concatena x e y em 2 colunas            \n",
        "            XYsorted = XY[XY[:,2].argsort()] # Ordena os dados a partir da coluna 2 (Y) para todas as linhas\n",
        "    return GBEST,FOBEST,XYsorted"
      ],
      "execution_count": 0,
      "outputs": []
    },
    {
      "metadata": {
        "id": "mhlZT-EXyCU2",
        "colab_type": "code",
        "colab": {}
      },
      "cell_type": "code",
      "source": [
        "from math import *\n",
        "def Schwefel(x):\n",
        "    \n",
        "    summ=0\n",
        "    for i in range(len(x)):\n",
        "        new=x[i]*sin((abs(x[i]))**0.5)\n",
        "        summ=summ+new\n",
        "#        print(summ)\n",
        "    return (418.9829*len(x)-summ)    \n",
        "\n",
        "# Global optimum: f(xi)= 0 for xi = 420.968746 for i=1,...,n  ;  xi in [-500,500]"
      ],
      "execution_count": 0,
      "outputs": []
    },
    {
      "metadata": {
        "id": "LholPuw8aajP",
        "colab_type": "code",
        "colab": {
          "base_uri": "https://localhost:8080/",
          "height": 104
        },
        "outputId": "4c2e9385-0b6b-45a1-ce99-fdfd80f19ee2"
      },
      "cell_type": "code",
      "source": [
        "######################################MAIN\n",
        "#import Function \n",
        "############################### FUNÇÃO\n",
        "'''\n",
        "Fun=Function.Rosenbrock\n",
        "MAX=[20,20] # MAXIMO DE CADA PARAMETRO\n",
        "MIN=[-30,-30] # MINIMO DE CADA PARAMETRO\n",
        "'''\n",
        "'''\n",
        "F_Name='Shubert'\n",
        "Fun=Function.Shubert\n",
        "MAX=[10,10] # MAXIMO DE CADA PARAMETRO\n",
        "MIN=[-10,-10] # MINIMO DE CADA PARAMETRO\n",
        "'''\n",
        "#'''\n",
        "#Fun=Function.Schwefel\n",
        "Fun=Schwefel\n",
        "MAX=[500,500] # MAXIMO DE CADA PARAMETRO\n",
        "MIN=[-300,-300] # MINIMO DE CADA PARAMETRO\n",
        "#'''\n",
        "\n",
        "#'''\n",
        "############################### DADOS DE ENTRADA \n",
        "W=0.75\n",
        "C1=2\n",
        "C2=2\n",
        "\n",
        "NPAR=50 #PARTICULAS\n",
        "ITE=200 #ITERACOES\n",
        "PAR=len(MAX) #NUM DE PARAMETROS A SER OTIMIZADOS\n",
        "\n",
        "############################## RESOLUÇÃO E IMPRESSÃO\n",
        "\n",
        "print(\"\\n\",\"PSO _\",NPAR,\"Agentes _\",ITE,\"Iterações _\",\"Min/Max=\",MIN[0],\"/\",MAX[0],'_',Fun.__name__,\"\\n\")\n",
        "\n",
        "BEST_PSO,FOBEST_PSO,XY_PSO=PSO(W,C1,C2,NPAR,ITE,PAR,MAX,MIN,Fun)\n",
        "\n",
        "print(\" BEST=\",BEST_PSO,\"  FOBEST=\",FOBEST_PSO,\"\\n\")\n",
        "\n",
        "#'''"
      ],
      "execution_count": 36,
      "outputs": [
        {
          "output_type": "stream",
          "text": [
            "\n",
            " PSO _ 50 Agentes _ 200 Iterações _ Min/Max= -300 / 500 _ Schwefel \n",
            "\n",
            " BEST= [419.8966614 419.8182368]   FOBEST= 0.31192888988255163 \n",
            "\n"
          ],
          "name": "stdout"
        }
      ]
    },
    {
      "metadata": {
        "id": "oJwfJd6c0TF0",
        "colab_type": "code",
        "colab": {
          "base_uri": "https://localhost:8080/",
          "height": 884
        },
        "outputId": "50a2a353-0e3e-4983-d03e-9da8abdd0d74"
      },
      "cell_type": "code",
      "source": [
        "XY_PSO"
      ],
      "execution_count": 37,
      "outputs": [
        {
          "output_type": "execute_result",
          "data": {
            "text/plain": [
              "array([[4.19896661e+02, 4.19818237e+02, 3.11928890e-01],\n",
              "       [4.20192345e+02, 4.18955533e+02, 5.86988654e-01],\n",
              "       [4.23667543e+02, 4.21301301e+02, 9.33658708e-01],\n",
              "       [4.24919198e+02, 4.21160160e+02, 1.97532952e+00],\n",
              "       [4.23482029e+02, 4.24304167e+02, 2.20240586e+00],\n",
              "       [4.25177312e+02, 4.20378480e+02, 2.28057809e+00],\n",
              "       [4.24558781e+02, 4.23865183e+02, 2.68684807e+00],\n",
              "       [4.24247565e+02, 4.24587230e+02, 3.01094873e+00],\n",
              "       [4.17960568e+02, 4.25071301e+02, 3.26538324e+00],\n",
              "       [4.23620199e+02, 4.25477888e+02, 3.45515610e+00],\n",
              "       [4.16100672e+02, 4.23086208e+02, 3.54726473e+00],\n",
              "       [4.22964535e+02, 4.26025458e+02, 3.73161810e+00],\n",
              "       [4.16431037e+02, 4.17739770e+02, 3.90431372e+00],\n",
              "       [4.15659776e+02, 4.23953121e+02, 4.66885143e+00],\n",
              "       [4.26543208e+02, 4.24050247e+02, 5.12247821e+00],\n",
              "       [4.26790224e+02, 4.24954296e+02, 6.28450260e+00],\n",
              "       [4.26570705e+02, 4.16655283e+02, 6.30388429e+00],\n",
              "       [4.14240185e+02, 4.18499922e+02, 6.45310381e+00],\n",
              "       [4.13794228e+02, 4.19196037e+02, 6.85657012e+00],\n",
              "       [4.26070483e+02, 4.26483619e+02, 7.12647204e+00],\n",
              "       [4.21066577e+02, 4.29164875e+02, 8.47605211e+00],\n",
              "       [4.12974529e+02, 4.24252019e+02, 9.37452990e+00],\n",
              "       [4.12675256e+02, 4.24203684e+02, 9.94281159e+00],\n",
              "       [4.11300731e+02, 4.20706168e+02, 1.17036741e+01],\n",
              "       [4.11274300e+02, 4.19963513e+02, 1.18860319e+01],\n",
              "       [4.28331098e+02, 4.14446476e+02, 1.21833890e+01],\n",
              "       [4.10928136e+02, 4.20796664e+02, 1.26109641e+01],\n",
              "       [4.28227472e+02, 4.13846077e+02, 1.30172285e+01],\n",
              "       [4.14294216e+02, 4.28764859e+02, 1.32633938e+01],\n",
              "       [4.28093649e+02, 4.13357358e+02, 1.36743703e+01],\n",
              "       [4.19298387e+02, 4.10583225e+02, 1.38334039e+01],\n",
              "       [4.25212414e+02, 4.30750766e+02, 1.43360544e+01],\n",
              "       [4.20215535e+02, 4.31852642e+02, 1.49934198e+01],\n",
              "       [4.13887892e+02, 4.30509058e+02, 1.77682887e+01],\n",
              "       [4.19691170e+02, 4.32787229e+02, 1.77881411e+01],\n",
              "       [4.29301986e+02, 4.29978485e+02, 1.89971765e+01],\n",
              "       [4.31430944e+02, 4.12483569e+02, 2.28142327e+01],\n",
              "       [4.34351950e+02, 4.24274507e+02, 2.38955666e+01],\n",
              "       [4.06723976e+02, 4.21225804e+02, 2.52102448e+01],\n",
              "       [4.18103818e+02, 4.35343725e+02, 2.69849669e+01],\n",
              "       [4.06255878e+02, 4.23931318e+02, 2.79701185e+01],\n",
              "       [4.21456941e+02, 4.35949806e+02, 2.81970939e+01],\n",
              "       [4.37340866e+02, 4.20321007e+02, 3.36391444e+01],\n",
              "       [4.23306984e+02, 4.37269453e+02, 3.39871033e+01],\n",
              "       [4.02262944e+02, 4.19858905e+02, 4.32112177e+01],\n",
              "       [4.09093616e+02, 4.05578420e+02, 4.69403335e+01],\n",
              "       [3.99909207e+02, 4.22044552e+02, 5.44051785e+01],\n",
              "       [4.22523422e+02, 4.45099495e+02, 7.23608345e+01],\n",
              "       [3.93780386e+02, 4.29197276e+02, 9.73785313e+01],\n",
              "       [2.24415795e+02, 4.46749807e+02, 3.51722708e+02]])"
            ]
          },
          "metadata": {
            "tags": []
          },
          "execution_count": 37
        }
      ]
    }
  ]
}